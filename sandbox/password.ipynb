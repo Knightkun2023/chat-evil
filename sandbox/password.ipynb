{
 "cells": [
  {
   "cell_type": "markdown",
   "metadata": {},
   "source": [
    "## パスワードが分からなくなった時の復旧SQL作成"
   ]
  },
  {
   "cell_type": "code",
   "execution_count": null,
   "metadata": {},
   "outputs": [],
   "source": [
    "from flask_bcrypt import Bcrypt\n",
    "bcrypt = Bcrypt()\n",
    "password = 'hananoirohautsurinikerina11111'\n",
    "password_hash = bcrypt.generate_password_hash(password).decode('utf-8')\n",
    "print(password_hash)\n",
    "\n",
    "user_no = 1\n",
    "revision = 1\n",
    "print(f\"UPDATE login_users set password_hash='{password_hash}' where user_no={user_no} and revision={revision};\")"
   ]
  }
 ],
 "metadata": {
  "kernelspec": {
   "display_name": "venv",
   "language": "python",
   "name": "python3"
  },
  "language_info": {
   "codemirror_mode": {
    "name": "ipython",
    "version": 3
   },
   "file_extension": ".py",
   "mimetype": "text/x-python",
   "name": "python",
   "nbconvert_exporter": "python",
   "pygments_lexer": "ipython3",
   "version": "3.12.1"
  }
 },
 "nbformat": 4,
 "nbformat_minor": 2
}
